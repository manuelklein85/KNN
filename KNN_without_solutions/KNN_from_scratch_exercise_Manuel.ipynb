{
 "cells": [
  {
   "cell_type": "markdown",
   "metadata": {},
   "source": [
    "The KNN algorithm is very simple to implement, as it does not need to be trained. The training phase merely stores the training data. For each test point, we calculate the distance of that data point to every existing data point and find the $K$ closest ones. What we return is the the most common amongst the top k classification nearest to the test point. Here's the pseudocode for _K_ Nearest Neighbors:\n",
    "\n",
    "```\n",
    "kNN:\n",
    "\n",
    "    Learn:\n",
    "        Store training set T to X_train: X_train <-- T\n",
    "\n",
    "\n",
    "    Predict:\n",
    "        for every point xp in X_predict:\n",
    "            for every point x in X_train:\n",
    "                calculate the distance d in D between x and xp\n",
    "            sort D in increasing order\n",
    "            take the \"k\" items in X_train with the smallest distances to x\n",
    "            return the majority class among these k items\n",
    "```\n",
    "\n",
    "Note that for large data sets, the algorithm can take very long to classify because it has to calculate the distance between the test point and evey other point in the data!\n"
   ]
  },
  {
   "cell_type": "markdown",
   "metadata": {},
   "source": []
  },
  {
   "cell_type": "markdown",
   "metadata": {},
   "source": [
    "# Distance Metrics - Note"
   ]
  },
  {
   "cell_type": "markdown",
   "metadata": {},
   "source": [
    "As explained above, KNN assigns a class to the test point based on the majority class of  KK  nearest neighbours. In general, euclidean distance is used to find nearest neighbours, but other distance metrics can also be used.\n",
    "\n",
    "As the dimensionality of the feature space increases, the euclidean distance often becomes problematic due to the curse of dimensionality (discussed later).\n",
    "\n",
    "In such cases, alternative vector-based similarity measures (dot product, cosine similarity, etc) are used to find the nearest neighbours. This transforms the original metric space into one more amicable to point-to-point measurements.\n",
    "\n",
    "Another distance measure that you might consider is Mahalanobis distance. Here's the wikipedia page on Mahalanobis distance. https://en.wikipedia.org/wiki/Mahalanobis_distance Mahalanobis distance attempts to weight features according to their probabilities. On some data sets that may be important.\n",
    "\n",
    "In general, it's probably a good idea to normalize the data at a minimum. Here's a link to the scikit learn scaling package. http://scikit-learn.org/stable/modules/generated/sklearn.preprocessing.StandardScaler.html . You have to be a little circumspect about employing any technique where the answers change with scaling."
   ]
  },
  {
   "cell_type": "markdown",
   "metadata": {},
   "source": [
    "### KNN self programmed version"
   ]
  },
  {
   "cell_type": "code",
   "execution_count": 20,
   "metadata": {},
   "outputs": [],
   "source": [
    "import numpy as np\n",
    "import matplotlib.pyplot as plt\n",
    "%matplotlib inline  \n",
    "from matplotlib.colors import ListedColormap\n",
    "from sklearn import datasets\n",
    "from sklearn.model_selection import train_test_split\n",
    "\n",
    "\n",
    "# import some data to play with\n",
    "iris = datasets.load_iris()\n",
    "\n",
    "# we only take the first two features. We could avoid this ugly\n",
    "# slicing by using a two-dim dataset\n",
    "X = iris.data[:, :2]\n",
    "y = iris.target"
   ]
  },
  {
   "cell_type": "code",
   "execution_count": 21,
   "metadata": {},
   "outputs": [],
   "source": [
    "X_train, X_test, y_train, y_test = train_test_split(X, y, random_state=1)"
   ]
  },
  {
   "cell_type": "code",
   "execution_count": 22,
   "metadata": {
    "scrolled": false
   },
   "outputs": [
    {
     "data": {
      "image/png": "[encoded data removed]",
      "text/plain": [
       "<Figure size 576x576 with 1 Axes>"
      ]
     },
     "metadata": {
      "needs_background": "light"
     },
     "output_type": "display_data"
    }
   ],
   "source": [
    "plt.figure(figsize=(8, 8))\n",
    "plt.scatter(X_train[:,0], X_train[:,1], c=y_train, s=10, cmap='rainbow');"
   ]
  },
  {
   "cell_type": "code",
   "execution_count": 33,
   "metadata": {
    "scrolled": false
   },
   "outputs": [],
   "source": [
    "y_train = y_train[:, np.newaxis]\n",
    "X_train = np.hstack([X_train, y_train])"
   ]
  },
  {
   "cell_type": "code",
   "execution_count": 34,
   "metadata": {},
   "outputs": [
    {
     "data": {
      "text/plain": [
       "array([[6.5, 2.8, 1. ],\n",
       "       [6.7, 2.5, 2. ],\n",
       "       [6.8, 3. , 2. ],\n",
       "       [5.1, 3.5, 0. ],\n",
       "       [6. , 2.2, 2. ],\n",
       "       [6.3, 2.9, 2. ],\n",
       "       [6.6, 2.9, 1. ],\n",
       "       [7.7, 2.6, 2. ],\n",
       "       [5.7, 3.8, 0. ],\n",
       "       [5. , 3.6, 0. ],\n",
       "       [4.8, 3. , 0. ],\n",
       "       [5.2, 2.7, 1. ],\n",
       "       [5.1, 3.4, 0. ],\n",
       "       [5.5, 3.5, 0. ],\n",
       "       [7.7, 3.8, 2. ],\n",
       "       [6.9, 3.1, 2. ],\n",
       "       [7.3, 2.9, 2. ],\n",
       "       [6.4, 2.8, 2. ],\n",
       "       [6.2, 2.8, 2. ],\n",
       "       [6. , 3.4, 1. ],\n",
       "       [7.7, 2.8, 2. ],\n",
       "       [5.7, 3. , 1. ],\n",
       "       [4.8, 3.4, 0. ],\n",
       "       [5.7, 2.5, 2. ],\n",
       "       [6.3, 2.7, 2. ],\n",
       "       [4.8, 3. , 0. ],\n",
       "       [4.7, 3.2, 0. ],\n",
       "       [6.5, 3. , 2. ],\n",
       "       [4.6, 3.4, 0. ],\n",
       "       [6.1, 3. , 2. ],\n",
       "       [6.5, 3.2, 2. ],\n",
       "       [6.7, 3.1, 1. ],\n",
       "       [5.7, 2.8, 1. ],\n",
       "       [6.7, 3.3, 2. ],\n",
       "       [6. , 3. , 2. ],\n",
       "       [5.1, 3.8, 0. ],\n",
       "       [6. , 2.2, 1. ],\n",
       "       [6.4, 2.9, 1. ],\n",
       "       [6.5, 3. , 2. ],\n",
       "       [5. , 2.3, 1. ],\n",
       "       [6.3, 3.3, 2. ],\n",
       "       [5.5, 2.5, 1. ],\n",
       "       [5.4, 3.7, 0. ],\n",
       "       [4.9, 3.1, 0. ],\n",
       "       [5.2, 4.1, 0. ],\n",
       "       [6.7, 3.3, 2. ],\n",
       "       [4.4, 3. , 0. ],\n",
       "       [6. , 2.7, 1. ],\n",
       "       [6.4, 2.7, 2. ],\n",
       "       [5.9, 3. , 2. ],\n",
       "       [5.2, 3.5, 0. ],\n",
       "       [5.1, 3.3, 0. ],\n",
       "       [5.8, 2.7, 1. ],\n",
       "       [4.9, 3.1, 0. ],\n",
       "       [7.4, 2.8, 2. ],\n",
       "       [6.2, 2.9, 1. ],\n",
       "       [7.6, 3. , 2. ],\n",
       "       [6.7, 3. , 2. ],\n",
       "       [6.3, 2.3, 1. ],\n",
       "       [6.2, 3.4, 2. ],\n",
       "       [7.2, 3.6, 2. ],\n",
       "       [5.6, 2.9, 1. ],\n",
       "       [5.7, 4.4, 0. ],\n",
       "       [5.8, 2.7, 1. ],\n",
       "       [4.5, 2.3, 0. ],\n",
       "       [5.5, 2.4, 1. ],\n",
       "       [6.9, 3.1, 1. ],\n",
       "       [5. , 3.4, 0. ],\n",
       "       [6.8, 2.8, 1. ],\n",
       "       [5. , 3.5, 0. ],\n",
       "       [4.8, 3.4, 0. ],\n",
       "       [6.3, 3.4, 2. ],\n",
       "       [5.6, 2.8, 2. ],\n",
       "       [6.8, 3.2, 2. ],\n",
       "       [5. , 3.3, 0. ],\n",
       "       [5.1, 3.7, 0. ],\n",
       "       [5.9, 3.2, 1. ],\n",
       "       [4.6, 3.1, 0. ],\n",
       "       [5.8, 2.7, 2. ],\n",
       "       [4.8, 3.1, 0. ],\n",
       "       [6.5, 3. , 2. ],\n",
       "       [4.9, 2.5, 2. ],\n",
       "       [4.6, 3.2, 0. ],\n",
       "       [6.4, 3.2, 2. ],\n",
       "       [4.3, 3. , 0. ],\n",
       "       [5.6, 3. , 1. ],\n",
       "       [4.4, 2.9, 0. ],\n",
       "       [5.5, 2.4, 1. ],\n",
       "       [5. , 2. , 1. ],\n",
       "       [5.1, 3.5, 0. ],\n",
       "       [4.9, 3. , 0. ],\n",
       "       [4.9, 2.4, 1. ],\n",
       "       [4.6, 3.6, 0. ],\n",
       "       [5.9, 3. , 1. ],\n",
       "       [6.1, 2.9, 1. ],\n",
       "       [5. , 3.4, 0. ],\n",
       "       [6.7, 3.1, 1. ],\n",
       "       [5.7, 2.9, 1. ],\n",
       "       [6.2, 2.2, 1. ],\n",
       "       [7. , 3.2, 1. ],\n",
       "       [5.8, 2.7, 2. ],\n",
       "       [5.4, 3.4, 0. ],\n",
       "       [5. , 3. , 0. ],\n",
       "       [6.1, 2.6, 2. ],\n",
       "       [6.1, 2.8, 1. ],\n",
       "       [7.2, 3. , 2. ],\n",
       "       [5.7, 2.6, 1. ],\n",
       "       [6.3, 2.8, 2. ],\n",
       "       [6.4, 3.1, 2. ],\n",
       "       [6.3, 2.5, 1. ],\n",
       "       [6.7, 3.1, 2. ],\n",
       "       [4.9, 3.6, 0. ]])"
      ]
     },
     "execution_count": 34,
     "metadata": {},
     "output_type": "execute_result"
    }
   ],
   "source": [
    "X_train"
   ]
  },
  {
   "cell_type": "code",
   "execution_count": 17,
   "metadata": {},
   "outputs": [],
   "source": [
    "def euclidean_distance(Xrow):\n",
    "    p1, p2 = Xrow[0], Xrow[1]\n",
    "    sum_squared_distance = 0\n",
    "    sum_squared_distance += (p1**2\n",
    "    return (sum_squared_distance)**(1/2)"
   ]
  },
  {
   "cell_type": "code",
   "execution_count": null,
   "metadata": {},
   "outputs": [],
   "source": [
    "def knn(X_train, y_train, X_test):\n",
    "    compare = np.array([])\n",
    "    for i in range(len(X_test)):\n",
    "        compare = np.array([])\n",
    "        for j in range(len(X_train)):\n",
    "            compare.append(((X_train[0][j]-X_test[0][i])**2 + (X_train[1][j]-X_test[1][i])**2)**(1/2))\n",
    "            \n",
    "\n",
    "\n",
    "        "
   ]
  },
  {
   "cell_type": "code",
   "execution_count": 18,
   "metadata": {},
   "outputs": [
    {
     "data": {
      "text/plain": [
       "1.0"
      ]
     },
     "execution_count": 18,
     "metadata": {},
     "output_type": "execute_result"
    }
   ],
   "source": [
    "euclidean_distance([4, 5])"
   ]
  },
  {
   "cell_type": "code",
   "execution_count": null,
   "metadata": {},
   "outputs": [],
   "source": []
  },
  {
   "cell_type": "code",
   "execution_count": null,
   "metadata": {},
   "outputs": [],
   "source": []
  },
  {
   "cell_type": "code",
   "execution_count": null,
   "metadata": {},
   "outputs": [],
   "source": []
  },
  {
   "cell_type": "code",
   "execution_count": null,
   "metadata": {},
   "outputs": [],
   "source": [
    "from collections import Counter\n",
    "import math\n",
    "\n",
    "def knn(data, query, k, distance_fn, choice_fn):\n",
    "    neighbor_distances_and_indices = []\n",
    "    \n",
    "    # 3. For each example in the data\n",
    "    for index, example in enumerate(data):\n",
    "        # 3.1 Calculate the distance between the query example and the current\n",
    "        # example from the data.\n",
    "        distance = distance_fn(example[:-1], query)\n",
    "        \n",
    "        # 3.2 Add the distance and the index of the example to an ordered collection\n",
    "        neighbor_distances_and_indices.append((distance, index))\n",
    "    \n",
    "    # 4. Sort the ordered collection of distances and indices from\n",
    "    # smallest to largest (in ascending order) by the distances\n",
    "    sorted_neighbor_distances_and_indices = sorted(neighbor_distances_and_indices)\n",
    "    \n",
    "    # 5. Pick the first K entries from the sorted collection\n",
    "    k_nearest_distances_and_indices = sorted_neighbor_distances_and_indices[:k]\n",
    "    \n",
    "    # 6. Get the labels of the selected K entries\n",
    "    k_nearest_labels = [data[i][1] for distance, i in k_nearest_distances_and_indices]\n",
    "\n",
    "    # 7. If regression (choice_fn = mean), return the average of the K labels\n",
    "    # 8. If classification (choice_fn = mode), return the mode of the K labels\n",
    "    return k_nearest_distances_and_indices , choice_fn(k_nearest_labels)\n",
    "\n",
    "def mean(labels):\n",
    "    return sum(labels) / len(labels)\n",
    "\n",
    "def mode(labels):\n",
    "    return Counter(labels).most_common(1)[0][0]\n",
    "\n",
    "def euclidean_distance(point1, point2):\n",
    "    sum_squared_distance = 0\n",
    "    for i in range(len(point1)):\n",
    "        sum_squared_distance += math.pow(point1[i] - point2[i], 2)\n",
    "    return math.sqrt(sum_squared_distance)\n",
    "\n",
    "def main():\n",
    "    '''\n",
    "    # Regression Data\n",
    "    # \n",
    "    # Column 0: height (inches)\n",
    "    # Column 1: weight (pounds)\n",
    "    '''\n",
    "    reg_data = [\n",
    "       [65.75, 112.99],\n",
    "       [71.52, 136.49],\n",
    "       [69.40, 153.03],\n",
    "       [68.22, 142.34],\n",
    "       [67.79, 144.30],\n",
    "       [68.70, 123.30],\n",
    "       [69.80, 141.49],\n",
    "       [70.01, 136.46],\n",
    "       [67.90, 112.37],\n",
    "       [66.49, 127.45],\n",
    "    ]\n",
    "    \n",
    "    # Question:\n",
    "    # Given the data we have, what's the best-guess at someone's weight if they are 60 inches tall?\n",
    "    reg_query = [60]\n",
    "    reg_k_nearest_neighbors, reg_prediction = knn(\n",
    "        reg_data, reg_query, k=3, distance_fn=euclidean_distance, choice_fn=mean\n",
    "    )\n",
    "    \n",
    "    '''\n",
    "    # Classification Data\n",
    "    # \n",
    "    # Column 0: age\n",
    "    # Column 1: likes pineapple\n",
    "    '''\n",
    "    clf_data = [\n",
    "       [22, 1],\n",
    "       [23, 1],\n",
    "       [21, 1],\n",
    "       [18, 1],\n",
    "       [19, 1],\n",
    "       [25, 0],\n",
    "       [27, 0],\n",
    "       [29, 0],\n",
    "       [31, 0],\n",
    "       [45, 0],\n",
    "    ]\n",
    "    # Question:\n",
    "    # Given the data we have, does a 33 year old like pineapples on their pizza?\n",
    "    clf_query = [33]\n",
    "    clf_k_nearest_neighbors, clf_prediction = knn(\n",
    "        clf_data, clf_query, k=3, distance_fn=euclidean_distance, choice_fn=mode\n",
    "    )\n",
    "\n",
    "if __name__ == '__main__':\n",
    "    main()"
   ]
  },
  {
   "cell_type": "code",
   "execution_count": null,
   "metadata": {},
   "outputs": [],
   "source": [
    "print(__doc__)\n",
    "\n",
    "import numpy as np\n",
    "import matplotlib.pyplot as plt\n",
    "%matplotlib inline  \n",
    "from matplotlib.colors import ListedColormap\n",
    "from sklearn import neighbors, datasets\n",
    "\n",
    "n_neighbors = 15\n",
    "\n",
    "# import some data to play with\n",
    "iris = datasets.load_iris()\n",
    "\n",
    "# we only take the first two features. We could avoid this ugly\n",
    "# slicing by using a two-dim dataset\n",
    "X = iris.data[:, :2]\n",
    "y = iris.target\n",
    "\n",
    "h = .02  # step size in the mesh\n",
    "\n",
    "# Create color maps\n",
    "cmap_light = ListedColormap(['#FFAAAA', '#AAFFAA', '#AAAAFF'])\n",
    "cmap_bold = ListedColormap(['#FF0000', '#00FF00', '#0000FF'])\n",
    "\n",
    "for weights in ['uniform', 'distance']:\n",
    "    # we create an instance of Neighbours Classifier and fit the data.\n",
    "    clf = neighbors.KNeighborsClassifier(n_neighbors, weights=weights)\n",
    "    clf.fit(X, y)\n",
    "\n",
    "    # Plot the decision boundary. For that, we will assign a color to each\n",
    "    # point in the mesh [x_min, x_max]x[y_min, y_max].\n",
    "    x_min, x_max = X[:, 0].min() - 1, X[:, 0].max() + 1\n",
    "    y_min, y_max = X[:, 1].min() - 1, X[:, 1].max() + 1\n",
    "    xx, yy = np.meshgrid(np.arange(x_min, x_max, h),\n",
    "                         np.arange(y_min, y_max, h))\n",
    "    Z = clf.predict(np.c_[xx.ravel(), yy.ravel()])\n",
    "\n",
    "    # Put the result into a color plot\n",
    "    Z = Z.reshape(xx.shape)\n",
    "    plt.figure()\n",
    "    plt.pcolormesh(xx, yy, Z, cmap=cmap_light)\n",
    "\n",
    "    # Plot also the training points\n",
    "    plt.scatter(X[:, 0], X[:, 1], c=y, cmap=cmap_bold,\n",
    "                edgecolor='k', s=20)\n",
    "    plt.xlim(xx.min(), xx.max())\n",
    "    plt.ylim(yy.min(), yy.max())\n",
    "    plt.title(\"3-Class classification (k = %i, weights = '%s')\"\n",
    "              % (n_neighbors, weights))\n",
    "\n",
    "plt.show()"
   ]
  },
  {
   "cell_type": "code",
   "execution_count": null,
   "metadata": {},
   "outputs": [],
   "source": []
  }
 ],
 "metadata": {
  "kernelspec": {
   "display_name": "Python 3",
   "language": "python",
   "name": "python3"
  },
  "language_info": {
   "codemirror_mode": {
    "name": "ipython",
    "version": 3
   },
   "file_extension": ".py",
   "mimetype": "text/x-python",
   "name": "python",
   "nbconvert_exporter": "python",
   "pygments_lexer": "ipython3",
   "version": "3.6.6"
  }
 },
 "nbformat": 4,
 "nbformat_minor": 2
}
